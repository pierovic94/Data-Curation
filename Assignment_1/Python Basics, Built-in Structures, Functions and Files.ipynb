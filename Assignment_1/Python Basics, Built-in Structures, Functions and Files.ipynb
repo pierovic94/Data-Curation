{
 "cells": [
  {
   "cell_type": "markdown",
   "metadata": {},
   "source": [
    "## Python Basics, Built-in Structures, Functions and Files"
   ]
  },
  {
   "cell_type": "markdown",
   "metadata": {},
   "source": [
    "### Question 1 (5 points) Love is complicated\n",
    "\n",
    "Try to import the `this` module and assign `love` to be `this` as:\n",
    "\n",
    "```python\n",
    "import this\n",
    "\n",
    "love = this\n",
    "```\n",
    "answer the following questions:\n",
    "(Hint: run the code and see the answers)\n",
    "1. this is love? \n",
    "2. love is True? \n",
    "3. love is False?\n",
    "4. love is not True or False?\n",
    "5. love is not True or False; love is love "
   ]
  },
  {
   "cell_type": "code",
   "execution_count": 4,
   "metadata": {},
   "outputs": [
    {
     "name": "stdout",
     "output_type": "stream",
     "text": [
      "The Zen of Python, by Tim Peters\n",
      "\n",
      "Beautiful is better than ugly.\n",
      "Explicit is better than implicit.\n",
      "Simple is better than complex.\n",
      "Complex is better than complicated.\n",
      "Flat is better than nested.\n",
      "Sparse is better than dense.\n",
      "Readability counts.\n",
      "Special cases aren't special enough to break the rules.\n",
      "Although practicality beats purity.\n",
      "Errors should never pass silently.\n",
      "Unless explicitly silenced.\n",
      "In the face of ambiguity, refuse the temptation to guess.\n",
      "There should be one-- and preferably only one --obvious way to do it.\n",
      "Although that way may not be obvious at first unless you're Dutch.\n",
      "Now is better than never.\n",
      "Although never is often better than *right* now.\n",
      "If the implementation is hard to explain, it's a bad idea.\n",
      "If the implementation is easy to explain, it may be a good idea.\n",
      "Namespaces are one honking great idea -- let's do more of those!\n",
      "True\n",
      "False\n",
      "False\n",
      "True\n",
      "True True\n"
     ]
    }
   ],
   "source": [
    "import this\n",
    "\n",
    "love = this\n",
    "\n",
    "print(this is love)\n",
    "print(love is True)\n",
    "print(love is False)\n",
    "print(love is not True or False)\n",
    "print(love is not True or False, love is love)"
   ]
  },
  {
   "cell_type": "code",
   "execution_count": 5,
   "metadata": {},
   "outputs": [],
   "source": [
    "import this as love"
   ]
  },
  {
   "cell_type": "markdown",
   "metadata": {},
   "source": [
    "### Question 2 (15 points) Palindrome\n",
    "\n",
    "Palindrome refers to a word, phrase, or sequence that reads the same backwards as forwards, e.g. madam. Given the following words, **write a for loop to check whether they are palindrome or not.**\n",
    "\n",
    "```python\n",
    "if the word is a pallindrome:\n",
    "    print('The word is a palindrome')\n",
    "else:\n",
    "    print('The word is not a palindrome')\n",
    "```\n",
    "\n",
    "Hints: write a function to reverse the string and then check whether the original string is equal to the revserd string, but not use the string[::-1].\n",
    "\n",
    "Example input: python\n",
    "\n",
    "Example output: ```The word python is not a palindrome``` \n",
    "\n",
    "Example input: ada\n",
    "\n",
    "Example output: ```The word ada is a palindrome``` \n",
    "\n"
   ]
  },
  {
   "cell_type": "code",
   "execution_count": 1,
   "metadata": {},
   "outputs": [
    {
     "name": "stdout",
     "output_type": "stream",
     "text": [
      "RotaTor\n",
      "The word rotator is a palindrome\n"
     ]
    }
   ],
   "source": [
    "# Question 2\n",
    "word= input().lower() \n",
    "    \n",
    "v_word=[letters for letters in word]\n",
    "rev_v_word=[v_word[len(v_word)-i] for i in range(1,len(v_word)+1)]\n",
    "\n",
    "if v_word == rev_v_word:\n",
    "    print('The word {} is a palindrome'.format(word))\n",
    "else:\n",
    "    print('The word {} is NOT a palindrome'.format(word))\n"
   ]
  },
  {
   "cell_type": "markdown",
   "metadata": {},
   "source": [
    "**Explanation Q2** : I created an input variable which is transformed in a string with lower case latters only. Next I created two list the first which split every letters in the word and the second loop return the same letters but in the opposite order. Finally, the if statement check if the two list objects are the same - if it is True the word is a palindrome otherwise is not. "
   ]
  },
  {
   "cell_type": "markdown",
   "metadata": {},
   "source": [
    "### Question 3 (20 points) Find the odd ane even prime numbers\n",
    "\n",
    "1. (10 points) Write a program which will find all prime numbers between 0 and 1000 (both included). \n",
    "    The numbers obtained should be printed in a comma-separated sequence on a single line.\n",
    "\n",
    "    Hints: \n",
    "    Consider use range(#begin, #end) method\n",
    "    \n",
    "2. (10 points) Among all prime numbers you have found, count how many odd and even numbers, respectively."
   ]
  },
  {
   "cell_type": "code",
   "execution_count": 7,
   "metadata": {},
   "outputs": [
    {
     "name": "stdout",
     "output_type": "stream",
     "text": [
      "2, 3, 5, 7, 11, 13, 17, 19, 23, 29, 31, 37, 41, 43, 47, 53, 59, 61, 67, 71, 73, 79, 83, 89, 97, 101, 103, 107, 109, 113, 127, 131, 137, 139, 149, 151, 157, 163, 167, 173, 179, 181, 191, 193, 197, 199, 211, 223, 227, 229, 233, 239, 241, 251, 257, 263, 269, 271, 277, 281, 283, 293, 307, 311, 313, 317, 331, 337, 347, 349, 353, 359, 367, 373, 379, 383, 389, 397, 401, 409, 419, 421, 431, 433, 439, 443, 449, 457, 461, 463, 467, 479, 487, 491, 499, 503, 509, 521, 523, 541, 547, 557, 563, 569, 571, 577, 587, 593, 599, 601, 607, 613, 617, 619, 631, 641, 643, 647, 653, 659, 661, 673, 677, 683, 691, 701, 709, 719, 727, 733, 739, 743, 751, 757, 761, 769, 773, 787, 797, 809, 811, 821, 823, 827, 829, 839, 853, 857, 859, 863, 877, 881, 883, 887, 907, 911, 919, 929, 937, 941, 947, 953, 967, 971, 977, 983, 991, 997\n"
     ]
    }
   ],
   "source": [
    "# Question 3\n",
    "prime= []\n",
    "for num in range(0,1001):\n",
    "    if num>1:\n",
    "        for i in range(2,num):\n",
    "            if num%i==0:\n",
    "                break\n",
    "        else:\n",
    "            prime.append(num)\n",
    "\n",
    "print(str(prime).strip(\"[]\"))"
   ]
  },
  {
   "cell_type": "markdown",
   "metadata": {},
   "source": [
    "**Explanation Q3_1**: I identify as *prime* and empty list, then I created a for loop for number between 0 and 1000. \n",
    "The prime numbers are bigger than 1, thus I specified the assumption with the if statement. \n",
    "The last for loop check if the numbers between 0 and 1000 divided by the preceding numbers return a residual equal of zero - if the loop is True break otherwise append the number in the list *prime*. \n",
    "Finally, I transformed the list into a string and strip away the square brackets."
   ]
  },
  {
   "cell_type": "code",
   "execution_count": 8,
   "metadata": {},
   "outputs": [
    {
     "name": "stdout",
     "output_type": "stream",
     "text": [
      "Prime odd numbers: 167\n",
      "Prime even numbers: 1\n"
     ]
    }
   ],
   "source": [
    "odd=[x for x in prime if x%2 !=0]\n",
    "even=[x for x in prime if x%2 ==0]\n",
    "\n",
    "        \n",
    "print(\"Prime odd numbers: {}\".format(len(odd)))\n",
    "print(\"Prime even numbers: {}\".format(len(even)))"
   ]
  },
  {
   "cell_type": "markdown",
   "metadata": {},
   "source": [
    "**Explanation Q3_2** I created two list comprehension, in order to identify which prime numbers are odd or even- with an if statment that check the residuals nested in a for loop. \n",
    "Next, the length of each subcategories was identified. "
   ]
  },
  {
   "cell_type": "markdown",
   "metadata": {},
   "source": [
    "### Question 4 (20 points) Top Performers\n",
    "\n",
    "Once the Teaching Assistant grades the assignment, she wants to have an understanding of who is the top performers in terms of the grade. Therefore, she needs to write a function ```top_performer``` by taking the student grades as the input and output the names of students with their grades.\n",
    "\n",
    "\n",
    "\n",
    "1. (5 points) Implement your the function ```top_performer``` and take the student grade as a list and a number n and output the top n grades:\n",
    "\n",
    "    Example input: input_list = [19, 13, 17, 18, 18, 16, 15, 14, 16, 15], number = 3\n",
    "\n",
    "    Example output: ```The top 3 grade: 19, 18, 18```\n",
    "    \n",
    "\n",
    "2. (5 points) Now if the TA wants to output the top 3 unique grades, i.e., if there are repeated grades, it will be counted for just once:\n",
    "    Example input: input_list = [19, 13, 17, 18, 18, 16, 15, 14, 16, 15], number = 3\n",
    "\n",
    "    Example output: ```The top 3 grade: 19, 18, 17```\n",
    "    \n",
    "2. (10 points) Now you are given a dictionary with both student's names and grades. Now produce the output as also a dictionary with the top performing students and their grades:\n",
    "\n",
    "    Example input: input_dict =  {'Olivia':19, 'Maria':18, 'Pedro':15, 'Nuno':17, 'Julia':19, 'Vasco':17, 'Carla':18}, number = 3\n",
    "    \n",
    "    Example output: ```The top 3 performer: {'Olivia': 19, 'Julia': 19, 'Maria': 18}```"
   ]
  },
  {
   "cell_type": "code",
   "execution_count": 1,
   "metadata": {},
   "outputs": [
    {
     "name": "stdout",
     "output_type": "stream",
     "text": [
      "Enter grades separated by space only: 19 13 17 18 18 16 15 14 16 15\n",
      "['19', '13', '17', '18', '18', '16', '15', '14', '16', '15']\n",
      "[19, 18, 18, 17, 16, 16, 15, 15, 14, 13]\n"
     ]
    },
    {
     "data": {
      "text/plain": [
       "'The top 3 grades are: 19, 18, 18'"
      ]
     },
     "execution_count": 1,
     "metadata": {},
     "output_type": "execute_result"
    }
   ],
   "source": [
    "# Question 4\n",
    "input_list=None\n",
    "def top_performer(input_list, n):  \n",
    "    grades=input(\"Enter grades separated by space only: \").split()\n",
    "    print(grades)\n",
    "    input_list=sorted([int(i) for i in grades], reverse=True)\n",
    "    print(input_list)\n",
    "    return \"The top {} grades are: {}\".format(n,str(input_list[0:n]).strip(\"[]\"))\n",
    "#19 13 17 18 18 16 15 14 16 15\n",
    "top_performer(input_list, 3)\n"
   ]
  },
  {
   "cell_type": "markdown",
   "metadata": {},
   "source": [
    "**Explanation Q4_1**: I called a nonetype list, before the function \"top_performer\" which contains two variables. \n",
    "Moreover, I used *split* in order to obtain a list from an input function - which will return str objects. \n",
    "Hence, I transformed every string object in an integer and I have sorted them from the biggest to the smallest - *reverse=True*.\n",
    "Finally, I extracted the first n elements from the list and converted them into a string to obtain a better output. "
   ]
  },
  {
   "cell_type": "code",
   "execution_count": 10,
   "metadata": {},
   "outputs": [
    {
     "name": "stdout",
     "output_type": "stream",
     "text": [
      "Enter grades separated by space only: 19 13 17 18 18 16 15 14 16 15\n"
     ]
    },
    {
     "data": {
      "text/plain": [
       "'The top 3 grades are: 19, 18, 17'"
      ]
     },
     "execution_count": 10,
     "metadata": {},
     "output_type": "execute_result"
    }
   ],
   "source": [
    " # change the list into set \n",
    "input_list=None\n",
    "def top_performer1(input_list, n):  \n",
    "    grades=input(\"Enter grades separated by space only: \").split()\n",
    "    input_list=sorted({int(i) for i in grades}, reverse=True)\n",
    "    return \"The top {} grades are: {}\".format(n,str(input_list[0:n]).strip(\"[]\"))\n",
    "\n",
    "top_performer1(input_list, 3)"
   ]
  },
  {
   "cell_type": "markdown",
   "metadata": {},
   "source": [
    "**Explanation Q4_2**: The only adjustment I did on the previous task was to output the n-unique grades. Hence, I used a set instead of a list when I sorted the integer object in *input_list*."
   ]
  },
  {
   "cell_type": "code",
   "execution_count": 11,
   "metadata": {},
   "outputs": [
    {
     "name": "stdout",
     "output_type": "stream",
     "text": [
      "Enter names separated by space: Pier Lea Thomas Nick Eva \n",
      "Enter grades separated by space: 20 18 16 11 9\n"
     ]
    },
    {
     "data": {
      "text/plain": [
       "\"The top 4 students are: {'Pier': 20, 'Lea': 18, 'Thomas': 16, 'Nick': 11}\""
      ]
     },
     "execution_count": 11,
     "metadata": {},
     "output_type": "execute_result"
    }
   ],
   "source": [
    "names=None\n",
    "grades=None\n",
    "\n",
    "def top_performer2(names,grades, n):\n",
    "    names=input(\"Enter names separated by space: \").split()\n",
    "    names=[i for i in names]\n",
    "    grades=input(\"Enter grades separated by space: \").split()\n",
    "    grades=[int(j) for j in grades]\n",
    "    dictionary=tuple(zip(names,grades))\n",
    "    dictionary=sorted(dictionary, key=lambda x: x[1], reverse=True)\n",
    "    return \"The top {} students are: {}\".format(n,dict(dictionary[:n]))\n",
    "        \n",
    "\n",
    "top_performer2(names,grades, 4)"
   ]
  },
  {
   "cell_type": "markdown",
   "metadata": {},
   "source": [
    "**Explanation Q4_3**: I assigned two nonetypes variables before execute the function. About the function, I called two inputs variables *name* and *grades* which will replace the external ones. Then for every inputs, I created two list. Finally, with the help of tuple I sorted the couples according to the second value by using an anonymous function lambda. "
   ]
  },
  {
   "cell_type": "markdown",
   "metadata": {},
   "source": [
    "### Question 5 (20 points) Decrypt the Caesar cipher\n",
    "\n",
    "The Caesar cipher is named after Julius Caesar, who used it in his private correspondence. The action of a Caesar cipher is to replace each plaintext letter with a different one a fixed number of places down the alphabet. For example, with a left shift of 3, D would be replaced by A, E would become B, and so on (as shown below).\n",
    "\n",
    "\n",
    "![caesar](https://upload.wikimedia.org/wikipedia/commons/4/4a/Caesar_cipher_left_shift_of_3.svg)\n",
    "\n",
    "\n",
    "Example: the word **python** is encryped as **sbwkrq**, with a left shift of 3.\n",
    "\n",
    "- Write a function to decrypt the following message: ```wkh gdwd fxudwlrq frxuvh lv dzhvrph!```. \n",
    "\n",
    "```python\n",
    "def decrypt(encrypted_message):\n",
    "    # Write your code below\n",
    "\n",
    "return decrypted_message\n",
    "```\n",
    "\n",
    "- Add a new argument **shift** to the function to indicate the shift level and decrypt the following message:\n",
    "\n",
    "    ```jgzg iaxgzout oy znk sgtgmksktz ul jgzg znxuamnuaz ozy rolkieirk, lxus ixkgzout gtj otozogr yzuxgmk zu znk zosk cnkt oz oy gxinobkj lux vuyzkxoze ux hkiusky uhyurkzk gtj oy jkrkzkj```. \n",
    "    \n",
    "    Print also the level that you manage to decrypt the message as well "
   ]
  },
  {
   "cell_type": "code",
   "execution_count": 12,
   "metadata": {},
   "outputs": [],
   "source": [
    "letters2int = dict(zip(\"abcdefghijklmnopqrstuvwxyz\", range(26)))\n",
    "int2letters = dict(zip(range(26), \"abcdefghijklmnopqrstuvwxyz\"))\n",
    "\n",
    "#int2letters[ (letters2int['a'] - 3) % 26 ] Good advice ;)"
   ]
  },
  {
   "cell_type": "code",
   "execution_count": 13,
   "metadata": {},
   "outputs": [
    {
     "data": {
      "text/plain": [
       "'the data curation course is awesome!'"
      ]
     },
     "execution_count": 13,
     "metadata": {},
     "output_type": "execute_result"
    }
   ],
   "source": [
    "# Question 5\n",
    "message=\"wkh gdwd fxudwlrq frxuvh lv dzhvrph!\"\n",
    "def decrypt(encrypted_message=message):\n",
    "    l=list(encrypted_message)\n",
    "    code_ecrypt=[]\n",
    "    for i in l:\n",
    "        try:\n",
    "            code_ecrypt.append(int2letters[(letters2int[i] - 3) % 26])\n",
    "        except KeyError:\n",
    "             code_ecrypt.append(str(i))\n",
    "    return ''.join(code_ecrypt)\n",
    "\n",
    "\n",
    "decrypt()\n",
    "        "
   ]
  },
  {
   "cell_type": "code",
   "execution_count": 34,
   "metadata": {},
   "outputs": [
    {
     "name": "stdout",
     "output_type": "stream",
     "text": [
      "Enter Shift: 6\n"
     ]
    },
    {
     "data": {
      "text/plain": [
       "'data curation is the management of data throughout its lifecycle, from creation and initial storage to the time when it is archived for posterity or becomes obsolete and is deleted'"
      ]
     },
     "execution_count": 34,
     "metadata": {},
     "output_type": "execute_result"
    }
   ],
   "source": [
    "message1=\"jgzg iaxgzout oy znk sgtgmksktz ul jgzg znxuamnuaz ozy rolkieirk, lxus ixkgzout gtj otozogr yzuxgmk zu znk zosk cnkt oz oy gxinobkj lux vuyzkxoze ux hkiusky uhyurkzk gtj oy jkrkzkj\"\n",
    "n=int(input(\"Enter Shift: \"))\n",
    "def decrypt1(encrypted_message,n):\n",
    "    l=list(encrypted_message)\n",
    "    code_ecrypt=[]\n",
    "    for i in l:\n",
    "        try:\n",
    "            code_ecrypt.append(int2letters[(letters2int[i] - n) % 26])\n",
    "        except KeyError:\n",
    "             code_ecrypt.append(str(i))\n",
    "    return ''.join(code_ecrypt)\n",
    "\n",
    "\n",
    "decrypt1(message1,n)"
   ]
  },
  {
   "cell_type": "markdown",
   "metadata": {},
   "source": [
    "**Explanation Q5**: Two dictionaries were given at the beggining. The function \"decrypt\" use the only variable *encrypted_message*, which is tranformed into a list. Next the for loop look up for every items into a list and it will append the corrisponding letter - lagged by 3 values - into a new empty list *code_ecrypt*. Whenever the loop meet special items - such as white space, comma or exclamation mark - it appends that exact same items and will avoid to break due to KeyError messages.\n",
    "\n",
    "The second function \"decrypt1\", contains one more variable *n* which is the value of the shift or lag entered in order to encode the message. "
   ]
  },
  {
   "cell_type": "markdown",
   "metadata": {},
   "source": [
    "So as you could find that, when shift is 6, we can decrypte the message"
   ]
  },
  {
   "cell_type": "markdown",
   "metadata": {},
   "source": [
    "### Question 6 (20 points) Easter Egg\n",
    "\n",
    "The file ```pep-0020.txt``` contains the Zen of Python. Read the file as we show in the lecture and answer the following question. \n",
    "\n",
    "1. Print the number of lines in the file\n",
    "2. Identify which line contains the ```Easter Egg```\n",
    "3. Slice the file with content only about the ```Zen of Python``` and save it to a new file ```zen_of_python.txt```"
   ]
  },
  {
   "cell_type": "code",
   "execution_count": 16,
   "metadata": {},
   "outputs": [
    {
     "name": "stdout",
     "output_type": "stream",
     "text": [
      "This file contain 68 lines\n"
     ]
    }
   ],
   "source": [
    "# Question 6\n",
    "file=open('pep-0020.txt','r')\n",
    "\n",
    "print(\"This file contain {} lines\". format(len(file.readlines())))\n",
    "file.close()"
   ]
  },
  {
   "cell_type": "code",
   "execution_count": 45,
   "metadata": {
    "scrolled": true
   },
   "outputs": [
    {
     "name": "stdout",
     "output_type": "stream",
     "text": [
      "Easter Egg\n",
      "The phrase searched is at line:  47\n"
     ]
    }
   ],
   "source": [
    "file=open('pep-0020.txt','r')\n",
    "content=file.readlines()\n",
    "text=str(input())+\"\\n\" #Easter Egg\n",
    "pos=content.index(text)\n",
    "\n",
    "print(\"The phrase searched is at line: \", pos)  \n",
    "\n",
    "file.close()\n"
   ]
  },
  {
   "cell_type": "code",
   "execution_count": 48,
   "metadata": {},
   "outputs": [],
   "source": [
    "file=\"pep-0020.txt\"\n",
    "file=open(file,'r')\n",
    "content=file.readlines()\n",
    "\n",
    "text_start=\"The Zen of Python\\n\"\n",
    "text_end=\"Easter Egg\\n\"\n",
    "a=content.index(text_start)\n",
    "b=content.index(text_end)\n",
    "\n",
    "\n",
    "output=\"\".join(content[a:b])\n",
    "\n",
    "new_file = open('The Zen of Python.txt', 'w')\n",
    "new_file.write(output)\n",
    "new_file.close()\n",
    "\n",
    "\n",
    "file.close()"
   ]
  },
  {
   "cell_type": "markdown",
   "metadata": {},
   "source": [
    "**Explanation Q6**: First, I opened the file and checked the lenght of the list created by using *len()* function. Next, I searched the line \"Easter Egg\" in the same list by using *index()*. Finally, I used the same approach to slice the list and join the items back together.  "
   ]
  }
 ],
 "metadata": {
  "kernelspec": {
   "display_name": "Python 3",
   "language": "python",
   "name": "python3"
  },
  "language_info": {
   "codemirror_mode": {
    "name": "ipython",
    "version": 3
   },
   "file_extension": ".py",
   "mimetype": "text/x-python",
   "name": "python",
   "nbconvert_exporter": "python",
   "pygments_lexer": "ipython3",
   "version": "3.7.3"
  }
 },
 "nbformat": 4,
 "nbformat_minor": 2
}
